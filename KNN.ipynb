{
 "cells": [
  {
   "cell_type": "code",
   "execution_count": 87,
   "metadata": {},
   "outputs": [],
   "source": [
    "import pandas as pd\n",
    "import numpy as np\n",
    "\n",
    "from sklearn.neighbors import KNeighborsClassifier as knn\n",
    "\n",
    "from sklearn.preprocessing import normalize\n",
    "\n",
    "from sklearn.model_selection import train_test_split"
   ]
  },
  {
   "cell_type": "code",
   "execution_count": 88,
   "metadata": {},
   "outputs": [],
   "source": [
    "df = pd.read_csv('data/temp/train_ready.csv')\n",
    "df_t = pd.read_csv('data/temp/test_ready.csv')"
   ]
  },
  {
   "cell_type": "code",
   "execution_count": 89,
   "metadata": {},
   "outputs": [
    {
     "data": {
      "text/plain": [
       "Index(['Survived', 'Pclass', 'Sex', 'Age', 'SibSp', 'Parch', 'Fare', 'Master',\n",
       "       'Miss', 'Cabin_A', 'Cabin_B', 'Cabin_C', 'Cabin_D', 'Cabin_E',\n",
       "       'Cabin_F', 'Cabin_G', 'Emb_C', 'Emb_Q', 'Emb_S', 'Fare_round'],\n",
       "      dtype='object')"
      ]
     },
     "execution_count": 89,
     "metadata": {},
     "output_type": "execute_result"
    }
   ],
   "source": [
    "df.columns"
   ]
  },
  {
   "cell_type": "code",
   "execution_count": 90,
   "metadata": {},
   "outputs": [
    {
     "data": {
      "text/plain": [
       "Index(['PassengerId', 'Pclass', 'Name', 'Sex', 'Age', 'SibSp', 'Parch', 'Fare',\n",
       "       'Master', 'Miss', 'Cabin_A', 'Cabin_B', 'Cabin_C', 'Cabin_D', 'Cabin_E',\n",
       "       'Cabin_F', 'Cabin_G', 'Emb_C', 'Emb_Q', 'Emb_S'],\n",
       "      dtype='object')"
      ]
     },
     "execution_count": 90,
     "metadata": {},
     "output_type": "execute_result"
    }
   ],
   "source": [
    "df_t.columns"
   ]
  },
  {
   "cell_type": "code",
   "execution_count": 91,
   "metadata": {},
   "outputs": [],
   "source": [
    "input_list = [\n",
    "    'Pclass',\n",
    "    'Sex',\n",
    "    'Age',\n",
    "    'SibSp',\n",
    "    'Parch',\n",
    "    'Fare',\n",
    "    \n",
    "    'Master',\n",
    "    'Miss',\n",
    "    \n",
    "    'Cabin_A',\n",
    "    'Cabin_B',\n",
    "    'Cabin_C',\n",
    "    'Cabin_D',\n",
    "    'Cabin_E',\n",
    "    'Cabin_F',\n",
    "    'Cabin_G',\n",
    "    \n",
    "    #'Emb_C',\n",
    "    #'Emb_Q',\n",
    "    #'Emb_S'\n",
    "]"
   ]
  },
  {
   "cell_type": "markdown",
   "metadata": {},
   "source": [
    "X = df.loc[:, input_list]\n",
    "y = df.loc[:, ['Survived']]\n",
    "X = normalize(X)\n",
    "X_train, X_test, y_train, y_test = train_test_split(X, y, random_state=1)"
   ]
  },
  {
   "cell_type": "markdown",
   "metadata": {},
   "source": [
    "comparison = []\n",
    "for i in range(11,21):\n",
    "    model = knn(n_neighbors=i).fit(X_train, y_train.values.ravel())\n",
    "    comparison.append(i)\n",
    "    comparison.append(model.score(X_train, y_train))\n",
    "    comparison.append(model.score(X_test, y_test))\n",
    "comparison = np.array(comparison).reshape((10,3))\n",
    "comparison"
   ]
  },
  {
   "cell_type": "code",
   "execution_count": 92,
   "metadata": {},
   "outputs": [
    {
     "data": {
      "text/plain": [
       "0.8282828282828283"
      ]
     },
     "execution_count": 92,
     "metadata": {},
     "output_type": "execute_result"
    }
   ],
   "source": [
    "#Training Data\n",
    "X_train = df.loc[:, input_list]\n",
    "y_train = df.loc[:, ['Survived']]\n",
    "X_train = normalize(X_train)\n",
    "\n",
    "#Optional Testing Data\n",
    "PassengerId =  df_t['PassengerId']\n",
    "X_test = df_t.loc[:,input_list]\n",
    "X_test = normalize(X_test)\n",
    "#scaler = MinMaxScaler()\n",
    "#X = scaler.fit_transform(X)\n",
    "\n",
    "#X_train, X_test, y_train, y_test = train_test_split(X, y, random_state=7)\n",
    "\n",
    "\n",
    "#comparison = []\n",
    "#for i in [1]:\n",
    "model = knn().fit(X_train, y_train.values.ravel())\n",
    "y_test = model.predict(X_test)\n",
    "#comparison.append(model.score(X_train, y_train))\n",
    "#comparison.append(model.score(X_test, y_test))\n",
    "y_test =  pd.DataFrame(y_test,  columns=['Survived'])\n",
    "#comparison = np.array(comparison).reshape((1,2))\n",
    "#comparison\n",
    "\n",
    "submission = pd.concat([PassengerId, y_test], axis = 1)\n",
    "\n",
    "submission.to_csv('data/final/submission.csv', index=False)\n",
    "\n",
    "model.score(X_train, y_train)"
   ]
  }
 ],
 "metadata": {
  "kernelspec": {
   "display_name": "Python 3",
   "language": "python",
   "name": "python3"
  },
  "language_info": {
   "codemirror_mode": {
    "name": "ipython",
    "version": 3
   },
   "file_extension": ".py",
   "mimetype": "text/x-python",
   "name": "python",
   "nbconvert_exporter": "python",
   "pygments_lexer": "ipython3",
   "version": "3.6.4"
  }
 },
 "nbformat": 4,
 "nbformat_minor": 2
}
