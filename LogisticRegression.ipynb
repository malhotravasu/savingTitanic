{
 "cells": [
  {
   "cell_type": "code",
   "execution_count": 47,
   "metadata": {},
   "outputs": [],
   "source": [
    "import pandas as pd\n",
    "import numpy as np\n",
    "\n",
    "from sklearn.linear_model import LogisticRegression\n",
    "\n",
    "from sklearn.preprocessing import MinMaxScaler\n",
    "from sklearn.preprocessing import scale\n",
    "\n",
    "from sklearn.model_selection import train_test_split"
   ]
  },
  {
   "cell_type": "code",
   "execution_count": 48,
   "metadata": {},
   "outputs": [],
   "source": [
    "df = pd.read_csv('data/temp/train_ready.csv')\n",
    "df_t = pd.read_csv('data/temp/test_ready.csv')"
   ]
  },
  {
   "cell_type": "code",
   "execution_count": 49,
   "metadata": {},
   "outputs": [
    {
     "data": {
      "text/plain": [
       "Index(['Survived', 'Pclass', 'Sex', 'Age', 'SibSp', 'Parch', 'Fare', 'Master',\n",
       "       'Miss', 'Cabin_A', 'Cabin_B', 'Cabin_C', 'Cabin_D', 'Cabin_E',\n",
       "       'Cabin_F', 'Cabin_G', 'Emb_C', 'Emb_Q', 'Emb_S', 'Fare_round'],\n",
       "      dtype='object')"
      ]
     },
     "execution_count": 49,
     "metadata": {},
     "output_type": "execute_result"
    }
   ],
   "source": [
    "df.columns"
   ]
  },
  {
   "cell_type": "code",
   "execution_count": 50,
   "metadata": {},
   "outputs": [
    {
     "data": {
      "text/plain": [
       "Index(['PassengerId', 'Pclass', 'Name', 'Sex', 'Age', 'SibSp', 'Parch', 'Fare',\n",
       "       'Master', 'Miss', 'Cabin_A', 'Cabin_B', 'Cabin_C', 'Cabin_D', 'Cabin_E',\n",
       "       'Cabin_F', 'Cabin_G', 'Emb_C', 'Emb_Q', 'Emb_S'],\n",
       "      dtype='object')"
      ]
     },
     "execution_count": 50,
     "metadata": {},
     "output_type": "execute_result"
    }
   ],
   "source": [
    "df_t.columns"
   ]
  },
  {
   "cell_type": "code",
   "execution_count": 51,
   "metadata": {},
   "outputs": [],
   "source": [
    "input_list = ['Pclass', 'Sex', 'Age', 'SibSp', 'Parch', 'Fare', 'Master',\n",
    "              'Miss', 'Cabin_A', 'Cabin_B', 'Cabin_C', 'Cabin_D', 'Cabin_E',\n",
    "              'Cabin_F', 'Cabin_G', 'Emb_C', 'Emb_Q', 'Emb_S']\n",
    "#Training Data\n",
    "X_train = df.loc[:, input_list]\n",
    "y_train = df.loc[:, ['Survived']]\n",
    "X_train = scale(X_train)\n",
    "\n",
    "#Optional Testing Data\n",
    "PassengerId =  df_t['PassengerId']\n",
    "X_test = df_t.loc[:,input_list]\n",
    "\n",
    "#scaler = MinMaxScaler()\n",
    "#X = scaler.fit_transform(X)\n",
    "\n",
    "#X_train, X_test, y_train, y_test = train_test_split(X, y, random_state=7)"
   ]
  },
  {
   "cell_type": "code",
   "execution_count": 52,
   "metadata": {
    "scrolled": true
   },
   "outputs": [],
   "source": [
    "#comparison = []\n",
    "#for i in [1]:\n",
    "model = LogisticRegression(penalty='l2', C=1).fit(X_train, y_train.values.ravel())\n",
    "y_test = model.predict(X_test)\n",
    "#comparison.append(model.score(X_train, y_train))\n",
    "#comparison.append(model.score(X_test, y_test))\n",
    "y_test =  pd.DataFrame(y_test,  columns=['Survived'])\n",
    "#comparison = np.array(comparison).reshape((1,2))\n",
    "#comparison\n",
    "\n",
    "submission = pd.concat([PassengerId, y_test], axis = 1)"
   ]
  },
  {
   "cell_type": "code",
   "execution_count": 53,
   "metadata": {},
   "outputs": [],
   "source": [
    "submission.to_csv('data/final/submission.csv', index=False)"
   ]
  }
 ],
 "metadata": {
  "kernelspec": {
   "display_name": "Python 3",
   "language": "python",
   "name": "python3"
  },
  "language_info": {
   "codemirror_mode": {
    "name": "ipython",
    "version": 3
   },
   "file_extension": ".py",
   "mimetype": "text/x-python",
   "name": "python",
   "nbconvert_exporter": "python",
   "pygments_lexer": "ipython3",
   "version": "3.6.4"
  }
 },
 "nbformat": 4,
 "nbformat_minor": 2
}
