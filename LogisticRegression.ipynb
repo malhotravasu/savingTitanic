{
 "cells": [
  {
   "cell_type": "code",
   "execution_count": 334,
   "metadata": {},
   "outputs": [],
   "source": [
    "import pandas as pd\n",
    "import numpy as np\n",
    "\n",
    "from sklearn.linear_model import LogisticRegression\n",
    "\n",
    "from sklearn.preprocessing import scale\n",
    "from sklearn.preprocessing import normalize\n",
    "\n",
    "from sklearn.model_selection import train_test_split\n",
    "\n",
    "from random import randint"
   ]
  },
  {
   "cell_type": "code",
   "execution_count": 327,
   "metadata": {},
   "outputs": [],
   "source": [
    "df = pd.read_csv('data/temp/train_ready.csv')\n",
    "df_t = pd.read_csv('data/temp/test_ready.csv')"
   ]
  },
  {
   "cell_type": "code",
   "execution_count": 328,
   "metadata": {},
   "outputs": [
    {
     "data": {
      "text/plain": [
       "Index(['Survived', 'Pclass', 'Sex', 'Age', 'SibSp', 'Parch', 'Fare', 'Master',\n",
       "       'Miss', 'Cabin_A', 'Cabin_B', 'Cabin_C', 'Cabin_D', 'Cabin_E',\n",
       "       'Cabin_F', 'Cabin_G', 'Emb_C', 'Emb_Q', 'Emb_S', 'Fare_round'],\n",
       "      dtype='object')"
      ]
     },
     "execution_count": 328,
     "metadata": {},
     "output_type": "execute_result"
    }
   ],
   "source": [
    "df.columns"
   ]
  },
  {
   "cell_type": "code",
   "execution_count": 329,
   "metadata": {},
   "outputs": [
    {
     "data": {
      "text/plain": [
       "Index(['PassengerId', 'Pclass', 'Name', 'Sex', 'Age', 'SibSp', 'Parch', 'Fare',\n",
       "       'Master', 'Miss', 'Cabin_A', 'Cabin_B', 'Cabin_C', 'Cabin_D', 'Cabin_E',\n",
       "       'Cabin_F', 'Cabin_G', 'Emb_C', 'Emb_Q', 'Emb_S'],\n",
       "      dtype='object')"
      ]
     },
     "execution_count": 329,
     "metadata": {},
     "output_type": "execute_result"
    }
   ],
   "source": [
    "df_t.columns"
   ]
  },
  {
   "cell_type": "code",
   "execution_count": 330,
   "metadata": {},
   "outputs": [],
   "source": [
    "input_list = [\n",
    "    'Pclass',\n",
    "    'Sex',\n",
    "    'Age',\n",
    "    'SibSp',\n",
    "    'Parch',\n",
    "    'Fare',\n",
    "    \n",
    "    'Master',\n",
    "    'Miss',\n",
    "    \n",
    "    'Cabin_A',\n",
    "    'Cabin_B',\n",
    "    'Cabin_C',\n",
    "    'Cabin_D',\n",
    "    'Cabin_E',\n",
    "    'Cabin_F',\n",
    "    'Cabin_G',\n",
    "    \n",
    "    #'Emb_C',\n",
    "    #'Emb_Q',\n",
    "    #'Emb_S'\n",
    "]"
   ]
  },
  {
   "cell_type": "code",
   "execution_count": 331,
   "metadata": {},
   "outputs": [],
   "source": [
    "X = df.loc[:, input_list]\n",
    "y = df.loc[:, ['Survived']]\n",
    "X = scale(X)\n",
    "X_train, X_test, y_train, y_test = train_test_split(X, y, random_state=randint(0,10))"
   ]
  },
  {
   "cell_type": "code",
   "execution_count": 332,
   "metadata": {},
   "outputs": [
    {
     "data": {
      "text/plain": [
       "array([[1.00000000e-02, 8.18862275e-01, 7.75784753e-01],\n",
       "       [1.00000000e-01, 8.42814371e-01, 7.93721973e-01],\n",
       "       [1.00000000e+00, 8.41317365e-01, 7.75784753e-01],\n",
       "       [1.00000000e+01, 8.38323353e-01, 7.84753363e-01],\n",
       "       [1.00000000e+02, 8.38323353e-01, 7.84753363e-01]])"
      ]
     },
     "execution_count": 332,
     "metadata": {},
     "output_type": "execute_result"
    }
   ],
   "source": [
    "comparison = []\n",
    "for i in [0.01, 0.1, 1, 10, 100]:\n",
    "    model = LogisticRegression(penalty='l2', C=i).fit(X_train, y_train.values.ravel())\n",
    "    comparison.append(i)\n",
    "    comparison.append(model.score(X_train, y_train))\n",
    "    comparison.append(model.score(X_test, y_test))\n",
    "comparison = np.array(comparison).reshape((5,3))\n",
    "comparison"
   ]
  },
  {
   "cell_type": "markdown",
   "metadata": {},
   "source": [
    "#Training Data\n",
    "X_train = df.loc[:, input_list]\n",
    "y_train = df.loc[:, ['Survived']]\n",
    "X_train = scale(X_train)\n",
    "\n",
    "#Optional Testing Data\n",
    "PassengerId =  df_t['PassengerId']\n",
    "X_test = df_t.loc[:,input_list]\n",
    "X_test = scale(X_test)\n",
    "#scaler = MinMaxScaler()\n",
    "#X = scaler.fit_transform(X)\n",
    "\n",
    "#X_train, X_test, y_train, y_test = train_test_split(X, y, random_state=7)\n",
    "\n",
    "\n",
    "#comparison = []\n",
    "#for i in [1]:\n",
    "model = LogisticRegression(penalty='l2', C=10).fit(X_train, y_train.values.ravel())\n",
    "y_test = model.predict(X_test)\n",
    "#comparison.append(model.score(X_train, y_train))\n",
    "#comparison.append(model.score(X_test, y_test))\n",
    "y_test =  pd.DataFrame(y_test,  columns=['Survived'])\n",
    "#comparison = np.array(comparison).reshape((1,2))\n",
    "#comparison\n",
    "\n",
    "submission = pd.concat([PassengerId, y_test], axis = 1)\n",
    "\n",
    "\n",
    "submission.to_csv('data/final/submission.csv', index=False)"
   ]
  }
 ],
 "metadata": {
  "kernelspec": {
   "display_name": "Python [default]",
   "language": "python",
   "name": "python3"
  },
  "language_info": {
   "codemirror_mode": {
    "name": "ipython",
    "version": 3
   },
   "file_extension": ".py",
   "mimetype": "text/x-python",
   "name": "python",
   "nbconvert_exporter": "python",
   "pygments_lexer": "ipython3",
   "version": "3.6.5"
  }
 },
 "nbformat": 4,
 "nbformat_minor": 2
}
